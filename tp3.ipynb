{
 "cells": [
  {
   "cell_type": "code",
   "execution_count": 1,
   "metadata": {
    "collapsed": true
   },
   "outputs": [],
   "source": [
    "import pandas as pd\n",
    "import numpy as np\n",
    "import seaborn as sns; sns.set_style(\"darkgrid\")\n",
    "from sklearn import linear_model\n",
    "import random\n",
    "import math\n",
    "import os\n",
    "\n",
    "import warnings\n",
    "warnings.filterwarnings('ignore')\n"
   ]
  },
  {
   "cell_type": "code",
   "execution_count": 2,
   "metadata": {
    "collapsed": false
   },
   "outputs": [
    {
     "name": "stdout",
     "output_type": "stream",
     "text": [
      "Decripcion de los datos\n",
      "             year        temp\n",
      "count   133.00000  133.000000\n",
      "mean   1946.00000    8.528271\n",
      "std      38.53786    0.629293\n",
      "min    1880.00000    6.920000\n",
      "25%    1913.00000    8.100000\n",
      "50%    1946.00000    8.430000\n",
      "75%    1979.00000    8.890000\n",
      "max    2012.00000   10.410000\n",
      "\n",
      "[8 rows x 2 columns]\n",
      "\n",
      "Las primeras 8 filas de los datdos\n",
      "   year  temp\n",
      "0  1880  7.79\n",
      "1  1881  8.19\n",
      "2  1882  8.49\n",
      "3  1883  7.94\n",
      "4  1884  7.60\n",
      "5  1885  8.16\n",
      "6  1886  7.67\n",
      "7  1887  8.23\n",
      "\n",
      "[8 rows x 2 columns]\n"
     ]
    }
   ],
   "source": [
    "# Levanto los datos\n",
    "df = pd.read_csv('./data/worldTemperature.csv', ' ', header = None, names = (['year', 'temp']))\n",
    "print(\"Decripcion de los datos\")\n",
    "print(df.describe())\n",
    "\n",
    "print(\"\\nLas primeras 8 filas de los datdos\")\n",
    "print(df.head(8))\n",
    "\n",
    "# Graficos los datos\n",
    "ax = sns.tsplot(time=df['year'], data=df['temp'], interpolate=False)\n",
    "sns.plt.show()"
   ]
  },
  {
   "cell_type": "code",
   "execution_count": 15,
   "metadata": {
    "collapsed": false
   },
   "outputs": [],
   "source": [
    "# Limpio los outliers\n",
    "def mascara_outliers(s):\n",
    "    return abs(s - s.mean()) <= 2*s.std()\n",
    "    \n",
    "mascara = mascara_outliers(df['temp'])\n",
    "df = df[mascara]\n",
    "sns.tsplot(time=df['year'], data=df['temp'], interpolate=False)\n",
    "\n",
    "# Para que se evidencien mejor los outliers que saque, grafico en el mismo rango\n",
    "# Algunos me parecen que no deberian ser removidos\n",
    "sns.plt.ylim((6.5, 10.5))\n",
    "sns.plt.show()"
   ]
  },
  {
   "cell_type": "code",
   "execution_count": 16,
   "metadata": {
    "collapsed": false
   },
   "outputs": [],
   "source": [
    "# Uso cuadrados minimos para predecir\n",
    "sns.tsplot(time=df['year'], data=df['temp'], interpolate=False)\n",
    "\n",
    "def armar_matriz_A(s):\n",
    "    temp = []\n",
    "    for t in s:\n",
    "        temp.append([20*np.cos(5*t),1000*np.cos(60*t),10*np.sin(50*t),t, 1])\n",
    "    return np.array(temp)\n",
    "\n",
    "def entrenar_y_predecir_en_rangos(df, rango_entrenamiento, rango_prediccion):\n",
    "    regr = linear_model.LinearRegression(fit_intercept=False)\n",
    "\n",
    "    # Entreno el modelo\n",
    "    df_e = df[df['year'].isin(rango_entrenamiento)]\n",
    "    A_e = armar_matriz_A(df_e['year'])\n",
    "    regr.fit(A_e, df_e['temp'])\n",
    "\n",
    "    # Me fijo la aproximacion que se realizo\n",
    "    df_e['p'] = regr.predict(A_e)\n",
    "    sns.tsplot(time=df_e['year'], data=df_e['p'], color='r')\n",
    "\n",
    "    # Realizo predicciones\n",
    "    df_p = df[df['year'].isin(rango_prediccion)]\n",
    "\n",
    "    A_p = armar_matriz_A(df_p['year'])\n",
    "    df_p['p'] = regr.predict(A_p)\n",
    "    sns.tsplot(time=df_p['year'], data=df_p['p'], color='g')\n",
    "\n",
    "    ECM = math.sqrt(sum((df_p['p']-df_p['temp'])**2)/len(rango_prediccion))\n",
    "    return ECM\n",
    "\n",
    "def predecir(k):\n",
    "    return entrenar_y_predecir_en_rangos(df, range(k-35,k), range(k,k+10))"
   ]
  },
  {
   "cell_type": "code",
   "execution_count": null,
   "metadata": {
    "collapsed": false,
    "scrolled": true
   },
   "outputs": [
    {
     "name": "stdout",
     "output_type": "stream",
     "text": [
      "Error de prediccion: 0.27\n",
      "Error de prediccion: 0.45\n",
      "Error de prediccion: 0.23\n",
      "Error promedio: 0.3179661997409942\n"
     ]
    }
   ],
   "source": [
    "\n",
    "ECM1= predecir(1915)\n",
    "print(\"Error de prediccion: {:.2f}\".format(ECM1))    \n",
    "\n",
    "ECM2= predecir(1960)\n",
    "print(\"Error de prediccion: {:.2f}\".format(ECM2))    \n",
    "\n",
    "ECM3= predecir(2005)\n",
    "print(\"Error de prediccion: {:.2f}\".format(ECM3))\n",
    "\n",
    "print (\"Error promedio:\",(ECM1+ECM2+ECM3)/3)\n",
    "\n",
    "sns.plt.xlim((1880, 2012))\n",
    "sns.plt.show()"
   ]
  },
  {
   "cell_type": "code",
   "execution_count": 8,
   "metadata": {
    "collapsed": true
   },
   "outputs": [],
   "source": [
    "#Experimento 2:"
   ]
  },
  {
   "cell_type": "code",
   "execution_count": 8,
   "metadata": {
    "collapsed": true
   },
   "outputs": [],
   "source": [
    "#Funciones de entrenamiento y creación de la matriz adaptadas a experimentos multivariados\n",
    "\n",
    "#S es una matriz. Cada fila contiene X_i grande(un vector de temperaturas por pais para un año determinado)\n",
    "def armar_matriz_A_multivar(s):\n",
    "    temp = []\n",
    "    for t in s:\n",
    "        #Aca va la familia de funciones, cambiar segun expermiento. \n",
    "        #Sin la constante \n",
    "        temp.append([t.mean(), 1])\n",
    "    return np.array(temp)\n",
    "\n",
    "def entrenar_y_predecir_en_rangos(df, rango_entrenamiento, rango_prediccion, paises):\n",
    "    regr = linear_model.LinearRegression(fit_intercept=False)\n",
    "    \n",
    "    # Entreno el modelo\n",
    "    df_e = df[df['year'].isin(rango_entrenamiento)]\n",
    "    df_aux = df_e.ix[:,2:paises + 2]\n",
    "    \n",
    "    A_e = armar_matriz_A_multivar(df_aux.values)\n",
    "    regr.fit(A_e, df_e['world'])\n",
    "\n",
    "    # Me fijo la aproximacion que se realizo\n",
    "    df_e['p'] = regr.predict(A_e)\n",
    "    sns.tsplot(time=df_e['year'], data=df_e['p'], color='r')\n",
    "\n",
    "    # Realizo predicciones\n",
    "    df_p = df[df['year'].isin(rango_prediccion)]\n",
    "    df_aux = df_p.ix[:,2:paises + 2]\n",
    "    A_p = armar_matriz_A_multivar(df_aux.values)\n",
    "    df_p['p'] = regr.predict(A_p)\n",
    "    sns.tsplot(time=df_p['year'], data=df_p['p'], color='g')\n",
    "\n",
    "    ECM = math.sqrt(sum((df_p['p']-df_p['world'])**2)/len(rango_prediccion))\n",
    "    return ECM\n",
    "\n",
    "def predecir(k, paises):\n",
    "    return entrenar_y_predecir_en_rangos(df, range(k-30,k), range(k,k+10), paises)"
   ]
  },
  {
   "cell_type": "code",
   "execution_count": 9,
   "metadata": {
    "collapsed": false
   },
   "outputs": [
    {
     "name": "stdout",
     "output_type": "stream",
     "text": [
      "Error de prediccion: 0.32\n",
      "Error de prediccion: 0.40\n",
      "Error de prediccion: 0.29\n",
      "Error promedio: 0.33431997746309233\n"
     ]
    }
   ],
   "source": [
    "#Idea basica: \n",
    "#Elegir representantes caracteristicos de cada clima (porque dicho clima representa la mayor parte del pais)\n",
    "#Ademas el pais intenta ser lo mas grande posible dentro del clima elegido. \n",
    "\n",
    "# Levanto los datos de cada pais, las mediciones son por mes\n",
    "# Como los años que no aparecen son los mismos para todos, yo tomaría a partir de 1891, que están todos\n",
    "# Canada:\n",
    "\n",
    "df_countries = pd.read_csv('./data/paises/Canada.csv',' ',header = None, names = ['year', 'Canada'])\n",
    "df_countries['year'] = df_countries['year'].map(lambda x: int(math.modf(x)[1]))\n",
    "\n",
    "# (Notar que este bucle vuelve a levantar Canada.csv)\n",
    "# Repito para el resto\n",
    "for filename in os.listdir('./data/paises/'):\n",
    "    if os.path.isfile('./data/paises/' + filename) and filename != 'Canada.csv':\n",
    "        aux = pd.read_csv('./data/paises/'+filename,' ',header = None, names = ['year', 'temp'])\n",
    "        aux['year'] = aux['year'].map(lambda x: int(math.modf(x)[1]))\n",
    "        filename = filename[:len(filename) - 5]\n",
    "        df_countries[filename] = aux.temp\n",
    "\n",
    "# Calculo el promedio anual de cada país\n",
    "df = df_countries.groupby('year').mean().reset_index()\n",
    "\n",
    "# Como los datos son consecutivos desde 1891, me quedo con ese subconjunto\n",
    "df = (df[df['year'].isin(range(1891,2013))]).reset_index()\n",
    "\n",
    "# Agrego la temperatura del planeta\n",
    "df_world = pd.read_csv('./data/worldTemperature.csv', ' ', header = None, names = ['x', 'y'])\n",
    "df_world = (df_world[df_world['x'].isin(range(1891,2013))]).reset_index()\n",
    "df['world'] = df_world.y\n",
    "mascara = mascara_outliers(df['world'])\n",
    "df = df[mascara]\n",
    "\n",
    "#Ahora aplico CM y grafico:\n",
    "# Segundo parámetro: cant. de países en el dataframe\n",
    "ECM1= predecir(1921, 8)\n",
    "print(\"Error de prediccion: {:.2f}\".format(ECM1))    \n",
    "\n",
    "ECM2= predecir(1961, 8)\n",
    "print(\"Error de prediccion: {:.2f}\".format(ECM2))    \n",
    "\n",
    "ECM3= predecir(2001, 8)\n",
    "print(\"Error de prediccion: {:.2f}\".format(ECM3))\n",
    "\n",
    "print (\"Error promedio:\",(ECM1+ECM2+ECM3)/3)\n",
    "\n",
    "sns.plt.ylim((6.5, 10.5))\n",
    "sns.tsplot(time=df['year'], data=df['world'], interpolate=False)\n",
    "sns.plt.xlim((1880, 2012))\n",
    "sns.plt.show()\n",
    "\n",
    "#Fin expermiento 2"
   ]
  },
  {
   "cell_type": "code",
   "execution_count": 10,
   "metadata": {
    "collapsed": false
   },
   "outputs": [
    {
     "name": "stdout",
     "output_type": "stream",
     "text": [
      "Error de prediccion: 0.30\n",
      "Error de prediccion: 0.36\n",
      "Error de prediccion: 0.58\n",
      "Error promedio: 0.41180139354315665\n"
     ]
    }
   ],
   "source": [
    "#Idea mejorada:\n",
    "#Elegir varios representantes de cada clima y promediarlos obteniendo la tempertaura promedio anual de un clima dado.\n",
    "# Se divide en 3 regiones: Low Latitude, Mid Latitude, High Latitude; que a la vez se subdivide en tres grupos\n",
    "# Se tienen hasta 9 representantes por cada grupo, hasta 3 por cada subgrupo\n",
    "# Low Latitude comprende más region, si lo hacemos pesado, debería ser el que tiene más peso\n",
    "\n",
    "# Inicializo un dataframe para cada region\n",
    "df_lowLat = pd.read_csv('./data/paises/lowLat/Brazil.csv', ' ',header = None, names = ['year', 'Brazil'])\n",
    "df_lowLat['year'] = df_lowLat['year'].map(lambda x: int(math.modf(x)[1]))\n",
    "\n",
    "df_midLat = pd.read_csv('./data/paises/midLat/China.csv', ' ',header = None, names = ['year', 'China'])\n",
    "df_midLat['year'] = df_midLat['year'].map(lambda x: int(math.modf(x)[1]))\n",
    "\n",
    "df_highLat = pd.read_csv('./data/paises/highLat/Canada.csv', ' ',header = None, names = ['year', 'Canada'])\n",
    "df_highLat['year'] = df_highLat['year'].map(lambda x: int(math.modf(x)[1]))\n",
    "\n",
    "regions = ['lowLat', 'midLat', 'highLat']\n",
    "\n",
    "for region in regions:\n",
    "    for filename in os.listdir('./data/paises/' + region + '/'):\n",
    "        if region == 'lowLat' and filename != 'Brazil.csv':\n",
    "            aux = pd.read_csv('./data/paises/' + region + '/' + filename, ' ', header = None, names = ['year', 'temp'])\n",
    "            aux['year'] = aux['year'].map(lambda x: int(math.modf(x)[1]))\n",
    "            filename = filename[:len(filename) - 5]\n",
    "            df_lowLat[filename] = aux.temp\n",
    "        elif region == 'midLat' and filename != 'China.csv':\n",
    "            aux = pd.read_csv('./data/paises/' + region + '/' + filename, ' ', header = None, names = ['year', 'temp'])\n",
    "            aux['year'] = aux['year'].map(lambda x: int(math.modf(x)[1]))\n",
    "            filename = filename[:len(filename) - 5]\n",
    "            df_midLat[filename] = aux.temp\n",
    "        elif region == 'highLat' and filename != 'Canada.csv':\n",
    "            aux = pd.read_csv('./data/paises/' + region + '/' + filename, ' ', header = None, names = ['year', 'temp'])\n",
    "            aux['year'] = aux['year'].map(lambda x: int(math.modf(x)[1]))\n",
    "            filename = filename[:len(filename) - 5]\n",
    "            df_highLat[filename] = aux.temp\n",
    "\n",
    "# Calculo el promedio anual de los países de cada región\n",
    "df_lowLat  = df_lowLat.groupby('year').mean()\n",
    "df_midLat  = df_midLat.groupby('year').mean()\n",
    "df_highLat = df_highLat.groupby('year').mean()\n",
    "\n",
    "# Obtengo el promedio anual de cada region\n",
    "df_lowLat['lowLat']   = df_lowLat.mean(axis = 1)\n",
    "df_midLat['midLat']   = df_midLat.mean(axis = 1)\n",
    "df_highLat['highLat'] = df_highLat.mean(axis = 1)\n",
    "\n",
    "# Necesario para que los años sean una key, y así poder manipularlos mejor (para plotear, por ej)\n",
    "df_lowLat   = df_lowLat.reset_index() \n",
    "df_midLat   = df_midLat.reset_index()\n",
    "df_highLat  = df_highLat.reset_index()\n",
    "# Acomodo los rangos\n",
    "# En df voy a juntar todo\n",
    "df         = (df_lowLat[df_lowLat['year'].isin(range(1891,2013))]).reset_index()\n",
    "df_midLat  = (df_midLat[df_midLat['year'].isin(range(1891,2013))]).reset_index()\n",
    "df_highLat = (df_highLat[df_highLat['year'].isin(range(1891,2013))]).reset_index()\n",
    "\n",
    "# uno los dataframes\n",
    "df['midLat']  = df_midLat.midLat\n",
    "df['highLat'] = df_highLat.highLat\n",
    "\n",
    "# Agrego la temperatura del planeta\n",
    "df_world = pd.read_csv('./data/worldTemperature.csv', ' ', header = None, names = ['x', 'y'])\n",
    "df_world = (df_world[df_world['x'].isin(range(1891,2013))]).reset_index()\n",
    "df['world'] = df_world.y\n",
    "mascara = mascara_outliers(df['world'])\n",
    "df = df[mascara]\n",
    "# Y me quedo con lo que me importa\n",
    "# (Me guardo la columna index para que sea retrocompatible con el método predecir)\n",
    "df = df[['index', 'year', 'lowLat', 'midLat', 'highLat', 'world']]\n",
    "\n",
    "#Ahora aplico CM y grafico:\n",
    "# Segundo parámetro: cant. de países en el dataframe\n",
    "ECM1= predecir(1921, 3)\n",
    "print(\"Error de prediccion: {:.2f}\".format(ECM1))    \n",
    "\n",
    "ECM2= predecir(1961, 3)\n",
    "print(\"Error de prediccion: {:.2f}\".format(ECM2))    \n",
    "\n",
    "ECM3= predecir(2001, 3)\n",
    "print(\"Error de prediccion: {:.2f}\".format(ECM3))\n",
    "\n",
    "print (\"Error promedio:\",(ECM1+ECM2+ECM3)/3)\n",
    "\n",
    "sns.plt.ylim((6.5, 10.5))\n",
    "sns.tsplot(time=df['year'], data=df['world'], interpolate=False)\n",
    "sns.plt.xlim((1880, 2012))\n",
    "sns.plt.show()\n",
    "\n",
    "#Funciones posibles(cada una de ellas es un experimento distinto, no necesariamente reportable (nos quedamos con el mejor): \n",
    "#Promedio asi nomas\n",
    "#Promedio pesado\n",
    "#Promedio pesado + cte\n",
    "#mas...\n",
    "#TODO\n"
   ]
  },
  {
   "cell_type": "code",
   "execution_count": null,
   "metadata": {
    "collapsed": true
   },
   "outputs": [],
   "source": []
  }
 ],
 "metadata": {
  "kernelspec": {
   "display_name": "Python 3",
   "language": "python",
   "name": "python3"
  },
  "language_info": {
   "codemirror_mode": {
    "name": "ipython",
    "version": 3
   },
   "file_extension": ".py",
   "mimetype": "text/x-python",
   "name": "python",
   "nbconvert_exporter": "python",
   "pygments_lexer": "ipython3",
   "version": "3.4.3"
  }
 },
 "nbformat": 4,
 "nbformat_minor": 2
}
