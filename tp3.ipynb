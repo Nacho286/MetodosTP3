{
 "cells": [
  {
   "cell_type": "code",
   "execution_count": 1,
   "metadata": {},
   "outputs": [
    {
     "name": "stderr",
     "output_type": "stream",
     "text": [
      "/usr/lib/python3/dist-packages/matplotlib/__init__.py:874: UserWarning: axes.color_cycle is deprecated and replaced with axes.prop_cycle; please use the latter.\n",
      "  warnings.warn(self.msg_depr % (key, alt_key))\n"
     ]
    },
    {
     "ename": "ImportError",
     "evalue": "No module named 'sklearn'",
     "output_type": "error",
     "traceback": [
      "\u001b[0;31m---------------------------------------------------------------------------\u001b[0m",
      "\u001b[0;31mImportError\u001b[0m                               Traceback (most recent call last)",
      "\u001b[0;32m<ipython-input-1-d5ff2e493c49>\u001b[0m in \u001b[0;36m<module>\u001b[0;34m()\u001b[0m\n\u001b[1;32m      2\u001b[0m \u001b[0;32mimport\u001b[0m \u001b[0mnumpy\u001b[0m \u001b[0;32mas\u001b[0m \u001b[0mnp\u001b[0m\u001b[0;34m\u001b[0m\u001b[0m\n\u001b[1;32m      3\u001b[0m \u001b[0;32mimport\u001b[0m \u001b[0mseaborn\u001b[0m \u001b[0;32mas\u001b[0m \u001b[0msns\u001b[0m\u001b[0;34m;\u001b[0m \u001b[0msns\u001b[0m\u001b[0;34m.\u001b[0m\u001b[0mset_style\u001b[0m\u001b[0;34m(\u001b[0m\u001b[0;34m\"darkgrid\"\u001b[0m\u001b[0;34m)\u001b[0m\u001b[0;34m\u001b[0m\u001b[0m\n\u001b[0;32m----> 4\u001b[0;31m \u001b[0;32mfrom\u001b[0m \u001b[0msklearn\u001b[0m \u001b[0;32mimport\u001b[0m \u001b[0mlinear_model\u001b[0m\u001b[0;34m\u001b[0m\u001b[0m\n\u001b[0m\u001b[1;32m      5\u001b[0m \u001b[0;32mimport\u001b[0m \u001b[0mrandom\u001b[0m\u001b[0;34m\u001b[0m\u001b[0m\n\u001b[1;32m      6\u001b[0m \u001b[0;34m\u001b[0m\u001b[0m\n",
      "\u001b[0;31mImportError\u001b[0m: No module named 'sklearn'"
     ]
    }
   ],
   "source": [
    "import pandas as pd\n",
    "import numpy as np\n",
    "import seaborn as sns; sns.set_style(\"darkgrid\")\n",
    "from sklearn import linear_model\n",
    "import random\n",
    "\n",
    "import warnings\n",
    "warnings.filterwarnings('ignore')\n",
    "\n",
    "# Levanto los datos\n",
    "df = pd.read_csv('./data/worldTemperature.csv', ' ')\n",
    "print(\"Decripcion de los datos\")\n",
    "print(df.describe())\n",
    "\n",
    "# print(\"\\nLas primeras 8 filas de los datdos\")\n",
    "# print(df.head(8))\n",
    "\n",
    "# Graficos los datos\n",
    "ax = sns.tsplot(time=df['x'], data=df['y'], interpolate=False)\n",
    "sns.plt.show()\n",
    "\n",
    "# Limpio los outliers\n",
    "def mascara_outliers(s):\n",
    "    return abs(s - s.mean()) <= 2*s.std()\n",
    "    \n",
    "mascara = mascara_outliers(df['y'])\n",
    "df = df[mascara]\n",
    "sns.tsplot(time=df['x'], data=df['y'], interpolate=False)\n",
    "\n",
    "# Para que se evidencien mejor los outliers que saque, grafico en el mismo rango\n",
    "# Algunos me parecen que no deberian ser removidos\n",
    "sns.plt.ylim((6.5, 10.5))\n",
    "sns.plt.show()\n",
    "\n",
    "# Uso cuadrados minimos para predecir\n",
    "sns.tsplot(time=df['x'], data=df['y'], interpolate=False)\n",
    "\n",
    "def armar_matriz_A(s):\n",
    "    temp = []\n",
    "    for t in s:\n",
    "        temp.append([t**2, np.cos(t), np.sin(t), t, 1])\n",
    "    return np.array(temp)\n",
    "\n",
    "def entrenar_y_predecir_en_rangos(df, rango_entrenamiento, rango_prediccion):\n",
    "    regr = linear_model.LinearRegression(fit_intercept=False)\n",
    "\n",
    "    # Entreno el modelo\n",
    "    df_e = df[df['x'].isin(rango_entrenamiento)]\n",
    "    A_e = armar_matriz_A(df_e['x'])\n",
    "    regr.fit(A_e, df_e['y'])\n",
    "\n",
    "    # Me fijo la aproximacion que se realizo\n",
    "    df_e['p'] = regr.predict(A_e)\n",
    "    sns.tsplot(time=df_e['x'], data=df_e['p'], color='r')\n",
    "\n",
    "    # Realizo predicciones\n",
    "    df_p = df[df['x'].isin(rango_prediccion)]\n",
    "\n",
    "    A_p = armar_matriz_A(df_p['x'])\n",
    "    df_p['p'] = regr.predict(A_p)\n",
    "    sns.tsplot(time=df_p['x'], data=df_p['p'], color='g')\n",
    "\n",
    "    ECM = sum((df_p['p']-df_p['y'])**2)\n",
    "    return ECM\n",
    "\n",
    "def predecir(k):\n",
    "    return entrenar_y_predecir_en_rangos(df, range(k-30,k), range(k,k+10))\n",
    "\n",
    "ECM = predecir(1930)\n",
    "print(\"Error de prediccion: {:.2f}\".format(ECM))    \n",
    "\n",
    "ECM = predecir(1960)\n",
    "print(\"Error de prediccion: {:.2f}\".format(ECM))\n",
    "\n",
    "ECM = predecir(1990)\n",
    "print(\"Error de prediccion: {:.2f}\".format(ECM))\n",
    "\n",
    "sns.plt.xlim((1880, 2012))\n",
    "sns.plt.show()\n",
    "\n",
    "# Un par de cosas mas de pandas\n",
    "# years = [2004]*6 + [2005]*6 + [2006]*6\n",
    "# delays = list(np.random.randn(6)+80) + list(np.random.randn(6)+5) + list(np.random.randn(6)+50)\n",
    "# delays[2] = 5\n",
    "# delays[7] = 80\n",
    "\n",
    "# df1 = pd.DataFrame({\n",
    "#     'year': years,\n",
    "#     'delay': delays\n",
    "# })\n",
    "\n",
    "# print df1\n",
    "\n",
    "# # Groupby y sacar outliers\n",
    "# mascara = df1.groupby('year')['delay'].apply(mascara_outliers)\n",
    "# df1 = df1[mascara]\n",
    "# print df1\n",
    "\n",
    "# # Groupby y calcular promedio\n",
    "# promedio = df1.groupby('year').aggregate(['mean', 'std', 'count'])\n",
    "# print promedio"
   ]
  },
  {
   "cell_type": "code",
   "execution_count": null,
   "metadata": {
    "collapsed": true
   },
   "outputs": [],
   "source": []
  },
  {
   "cell_type": "code",
   "execution_count": null,
   "metadata": {
    "collapsed": true
   },
   "outputs": [],
   "source": []
  }
 ],
 "metadata": {
  "kernelspec": {
   "display_name": "Python 3",
   "language": "python",
   "name": "python3"
  },
  "language_info": {
   "codemirror_mode": {
    "name": "ipython",
    "version": 3
   },
   "file_extension": ".py",
   "mimetype": "text/x-python",
   "name": "python",
   "nbconvert_exporter": "python",
   "pygments_lexer": "ipython3",
   "version": "3.5.1+"
  }
 },
 "nbformat": 4,
 "nbformat_minor": 2
}
